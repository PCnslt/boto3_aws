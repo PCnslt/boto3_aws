{
 "cells": [
  {
   "cell_type": "code",
   "execution_count": null,
   "id": "4bf5b50b",
   "metadata": {},
   "outputs": [],
   "source": [
    "import boto3"
   ]
  },
  {
   "cell_type": "code",
   "execution_count": 2,
   "id": "d22eab22",
   "metadata": {},
   "outputs": [
    {
     "name": "stdout",
     "output_type": "stream",
     "text": [
      "import requests\n",
      "\n",
      "def lambda_handler():\n",
      "    simple_grocery_url = \"https://simple-grocery-store-api.glitch.me/products?results=20&available=true\"\n",
      "    response = requests.get(url=simple_grocery_url)\n",
      "    return response.json()\n"
     ]
    }
   ],
   "source": [
    "with open(\"hello.py\", \"r\") as file:\n",
    "    print(file.read())"
   ]
  },
  {
   "cell_type": "code",
   "execution_count": 3,
   "id": "ea54551a",
   "metadata": {},
   "outputs": [],
   "source": [
    "function_name = \"simple_grocery_store\"\n",
    "runtime = \"python3.13\"\n",
    "handler = \"lambda_function.lambda_handler\""
   ]
  },
  {
   "cell_type": "code",
   "execution_count": 8,
   "id": "f2f4a64a",
   "metadata": {},
   "outputs": [],
   "source": [
    "import json\n",
    "import boto3\n",
    "\n",
    "iam_client = boto3.client(\"iam\")"
   ]
  },
  {
   "cell_type": "code",
   "execution_count": null,
   "id": "a0254141",
   "metadata": {},
   "outputs": [],
   "source": []
  }
 ],
 "metadata": {
  "kernelspec": {
   "display_name": "boto3_aws",
   "language": "python",
   "name": "python3"
  },
  "language_info": {
   "codemirror_mode": {
    "name": "ipython",
    "version": 3
   },
   "file_extension": ".py",
   "mimetype": "text/x-python",
   "name": "python",
   "nbconvert_exporter": "python",
   "pygments_lexer": "ipython3",
   "version": "3.13.2"
  }
 },
 "nbformat": 4,
 "nbformat_minor": 5
}
