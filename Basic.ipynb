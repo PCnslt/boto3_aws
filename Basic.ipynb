{
 "cells": [
  {
   "cell_type": "code",
   "execution_count": null,
   "id": "6ef69b48",
   "metadata": {},
   "outputs": [
    {
     "name": "stdout",
     "output_type": "stream",
     "text": [
      "Requirement already satisfied: boto3 in /opt/anaconda3/envs/boto3_aws/lib/python3.13/site-packages (1.38.16)\n",
      "Requirement already satisfied: botocore<1.39.0,>=1.38.16 in /opt/anaconda3/envs/boto3_aws/lib/python3.13/site-packages (from boto3) (1.38.16)\n",
      "Requirement already satisfied: jmespath<2.0.0,>=0.7.1 in /opt/anaconda3/envs/boto3_aws/lib/python3.13/site-packages (from boto3) (1.0.1)\n",
      "Requirement already satisfied: s3transfer<0.13.0,>=0.12.0 in /opt/anaconda3/envs/boto3_aws/lib/python3.13/site-packages (from boto3) (0.12.0)\n",
      "Requirement already satisfied: python-dateutil<3.0.0,>=2.1 in /opt/anaconda3/envs/boto3_aws/lib/python3.13/site-packages (from botocore<1.39.0,>=1.38.16->boto3) (2.9.0.post0)\n",
      "Requirement already satisfied: urllib3!=2.2.0,<3,>=1.25.4 in /opt/anaconda3/envs/boto3_aws/lib/python3.13/site-packages (from botocore<1.39.0,>=1.38.16->boto3) (2.4.0)\n",
      "Requirement already satisfied: six>=1.5 in /opt/anaconda3/envs/boto3_aws/lib/python3.13/site-packages (from python-dateutil<3.0.0,>=2.1->botocore<1.39.0,>=1.38.16->boto3) (1.17.0)\n",
      "Note: you may need to restart the kernel to use updated packages.\n"
     ]
    }
   ],
   "source": [
    "# pip install boto3"
   ]
  },
  {
   "cell_type": "code",
   "execution_count": 9,
   "id": "e601a36d",
   "metadata": {},
   "outputs": [],
   "source": [
    "import boto3\n",
    "\n",
    "s3 = boto3.resource(\"s3\")"
   ]
  },
  {
   "cell_type": "code",
   "execution_count": null,
   "id": "9985fd76",
   "metadata": {},
   "outputs": [
    {
     "data": {
      "text/plain": [
       "<bound method ResourceFactory._create_class_partial.<locals>.create_resource of s3.ServiceResource()>"
      ]
     },
     "execution_count": 16,
     "metadata": {},
     "output_type": "execute_result"
    }
   ],
   "source": [
    "for bucket in s3.buckets.all():\n",
    "    print(bucket.name)"
   ]
  }
 ],
 "metadata": {
  "kernelspec": {
   "display_name": "boto3_aws",
   "language": "python",
   "name": "python3"
  },
  "language_info": {
   "codemirror_mode": {
    "name": "ipython",
    "version": 3
   },
   "file_extension": ".py",
   "mimetype": "text/x-python",
   "name": "python",
   "nbconvert_exporter": "python",
   "pygments_lexer": "ipython3",
   "version": "3.13.2"
  }
 },
 "nbformat": 4,
 "nbformat_minor": 5
}
