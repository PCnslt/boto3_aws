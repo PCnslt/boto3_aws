{
 "cells": [
  {
   "cell_type": "code",
   "execution_count": null,
   "id": "c56a4f43",
   "metadata": {},
   "outputs": [],
   "source": [
    "import random\n",
    "\n",
    "seven_digit_random_num = random.randrange(1000000, 9999999)\n",
    "seven_digit_random_num"
   ]
  },
  {
   "cell_type": "code",
   "execution_count": null,
   "id": "6ef69b48",
   "metadata": {},
   "outputs": [],
   "source": [
    "# pip install boto3"
   ]
  },
  {
   "cell_type": "code",
   "execution_count": null,
   "id": "e601a36d",
   "metadata": {},
   "outputs": [],
   "source": [
    "import boto3\n",
    "\n",
    "s3 = boto3.resource(\"s3\")"
   ]
  },
  {
   "cell_type": "code",
   "execution_count": null,
   "id": "9985fd76",
   "metadata": {},
   "outputs": [],
   "source": [
    "bucket_list = []\n",
    "for bucket in s3.buckets.all():\n",
    "    # print(bucket.name)\n",
    "    bucket_list.append(bucket.name)\n",
    "# print(bucket_list)\n",
    "print(f\"Total Buckets: {len(bucket_list)}\")"
   ]
  },
  {
   "cell_type": "code",
   "execution_count": null,
   "id": "90be24b7",
   "metadata": {},
   "outputs": [],
   "source": [
    "import boto3"
   ]
  },
  {
   "cell_type": "code",
   "execution_count": null,
   "id": "c637ebff",
   "metadata": {},
   "outputs": [],
   "source": [
    "client = boto3.client(\"s3\")"
   ]
  },
  {
   "cell_type": "code",
   "execution_count": null,
   "id": "b50ca57e",
   "metadata": {},
   "outputs": [],
   "source": [
    "bucket_name = \"test\" + str(seven_digit_random_num)\n",
    "client.create_bucket(Bucket=bucket_name)"
   ]
  },
  {
   "cell_type": "code",
   "execution_count": null,
   "id": "1f529aa5",
   "metadata": {},
   "outputs": [],
   "source": [
    "with open(\"data.txt\", \"w\") as file:\n",
    "    for bucket in bucket_list:\n",
    "        file.write(str(bucket) + \"\\n\")"
   ]
  },
  {
   "cell_type": "code",
   "execution_count": null,
   "id": "6d6e435d",
   "metadata": {},
   "outputs": [],
   "source": [
    "client.upload_file(Filename=\"data.txt\", Bucket=bucket_name, Key=\"teset-upload-file.txt\")"
   ]
  },
  {
   "cell_type": "code",
   "execution_count": null,
   "id": "15d7b913",
   "metadata": {},
   "outputs": [],
   "source": [
    "client.download_file(\n",
    "    Key=\"teset-upload-file.txt\", Bucket=bucket_name, Filename=\"downloaded_data.txt\"\n",
    ")"
   ]
  },
  {
   "cell_type": "code",
   "execution_count": null,
   "id": "7edbc3e1",
   "metadata": {},
   "outputs": [],
   "source": [
    "with open(\"downloaded_data.txt\", \"r\") as downloaded_data:\n",
    "    print(downloaded_data.read())"
   ]
  },
  {
   "cell_type": "code",
   "execution_count": null,
   "id": "523d2480",
   "metadata": {},
   "outputs": [],
   "source": [
    "client.delete_object(Bucket=bucket_name, Key=\"teset-upload-file\")"
   ]
  },
  {
   "cell_type": "code",
   "execution_count": null,
   "id": "2c63d1b1",
   "metadata": {},
   "outputs": [],
   "source": [
    "client.delete_bucket(Bucket=bucket_name)"
   ]
  },
  {
   "cell_type": "code",
   "execution_count": null,
   "id": "27ea5a24",
   "metadata": {},
   "outputs": [],
   "source": [
    "response = client.list_buckets()\n",
    "bucket_list_client = []\n",
    "for bucket in response[\"Buckets\"]:\n",
    "    bucket_list_client.append(bucket)\n",
    "client_list_bucket_names = []\n",
    "for bucket_list_client_name in bucket_list_client:\n",
    "    client_list_bucket_names.append(str(bucket_list_client_name[\"Name\"]) + \"\\n\")\n",
    "client_list_bucket_names"
   ]
  },
  {
   "cell_type": "code",
   "execution_count": null,
   "id": "155fc228",
   "metadata": {},
   "outputs": [],
   "source": [
    "import boto3\n",
    "\n",
    "resource = boto3.resource(\"s3\")\n",
    "\n",
    "bucket_list = resource.buckets\n",
    "for bucket in bucket_list.all():\n",
    "    # print(bucket)\n",
    "    if bucket == \"s3.Bucket(name='test-9415358')\":\n",
    "        bucket = s3.Bucket(name=\"test-9415358\")\n",
    "    else:\n",
    "        bucket == None"
   ]
  },
  {
   "cell_type": "markdown",
   "id": "afd07f30",
   "metadata": {},
   "source": [
    "# Paginators and Waiters"
   ]
  },
  {
   "cell_type": "code",
   "execution_count": null,
   "id": "b103994c",
   "metadata": {},
   "outputs": [],
   "source": [
    "import boto3"
   ]
  },
  {
   "cell_type": "code",
   "execution_count": null,
   "id": "632ab877",
   "metadata": {},
   "outputs": [],
   "source": [
    "s3_client = boto3.client(\"s3\")"
   ]
  },
  {
   "cell_type": "code",
   "execution_count": null,
   "id": "62c14b8a",
   "metadata": {},
   "outputs": [],
   "source": [
    "paginator = s3_client.get_paginator(\"list_objects_v2\")"
   ]
  },
  {
   "cell_type": "code",
   "execution_count": null,
   "id": "cd2b7cac",
   "metadata": {},
   "outputs": [],
   "source": [
    "results = paginator.paginate(Bucket=\"test-9415358\")"
   ]
  },
  {
   "cell_type": "code",
   "execution_count": null,
   "id": "2eae21fd",
   "metadata": {},
   "outputs": [],
   "source": [
    "list(results)"
   ]
  },
  {
   "cell_type": "code",
   "execution_count": null,
   "id": "58830f8c",
   "metadata": {},
   "outputs": [],
   "source": [
    "type(results)"
   ]
  },
  {
   "cell_type": "code",
   "execution_count": null,
   "id": "b3b090ca",
   "metadata": {},
   "outputs": [],
   "source": [
    "for item in results.search(\"Contents\"):\n",
    "    print(item)\n",
    "    print(item[\"Key\"])"
   ]
  },
  {
   "cell_type": "markdown",
   "id": "23e21f23",
   "metadata": {},
   "source": [
    "## Waiters"
   ]
  },
  {
   "cell_type": "code",
   "execution_count": null,
   "id": "2fdb28ed",
   "metadata": {},
   "outputs": [],
   "source": [
    "bucket_name = \"test-\" + str(seven_digit_random_num)\n",
    "print(bucket_name)"
   ]
  },
  {
   "cell_type": "code",
   "execution_count": null,
   "id": "f218424c",
   "metadata": {},
   "outputs": [],
   "source": [
    "waiter = s3.get_waiter(\"bucket_exists\")"
   ]
  },
  {
   "cell_type": "code",
   "execution_count": null,
   "id": "960ab9be",
   "metadata": {},
   "outputs": [],
   "source": [
    "wait_config = {\"Delay\": 10, \"MaxAttempts\": 40}"
   ]
  },
  {
   "cell_type": "code",
   "execution_count": null,
   "id": "5178b55e",
   "metadata": {},
   "outputs": [],
   "source": [
    "print(f\"Waiting for the Bucket: {bucket_name}\")\n",
    "waiter.wait(Bucket=bucket_name, WaiterConfig=wait_config)\n",
    "print(f\"The Bucket has been created.\")"
   ]
  }
 ],
 "metadata": {
  "kernelspec": {
   "display_name": "boto3_aws",
   "language": "python",
   "name": "python3"
  },
  "language_info": {
   "codemirror_mode": {
    "name": "ipython",
    "version": 3
   },
   "file_extension": ".py",
   "mimetype": "text/x-python",
   "name": "python",
   "nbconvert_exporter": "python",
   "pygments_lexer": "ipython3",
   "version": "3.13.2"
  }
 },
 "nbformat": 4,
 "nbformat_minor": 5
}
