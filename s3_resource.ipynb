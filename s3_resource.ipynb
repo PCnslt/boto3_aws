{
 "cells": [
  {
   "cell_type": "code",
   "execution_count": null,
   "id": "fbaa9a02",
   "metadata": {},
   "outputs": [],
   "source": [
    "import random\n",
    "\n",
    "random_seven_digit = random.randrange(1000000, 9999999)"
   ]
  },
  {
   "cell_type": "code",
   "execution_count": null,
   "id": "493b5844",
   "metadata": {},
   "outputs": [],
   "source": [
    "import boto3"
   ]
  },
  {
   "cell_type": "code",
   "execution_count": null,
   "id": "23137c61",
   "metadata": {},
   "outputs": [],
   "source": [
    "s3 = boto3.resource(\"s3\")"
   ]
  },
  {
   "cell_type": "code",
   "execution_count": null,
   "id": "8c241ce4",
   "metadata": {},
   "outputs": [],
   "source": [
    "bucket_list = []\n",
    "for bucket in s3.buckets.all():\n",
    "    bucket_list.append(bucket.name)\n",
    "\n",
    "bucket_list"
   ]
  },
  {
   "cell_type": "code",
   "execution_count": null,
   "id": "4bf2a393",
   "metadata": {},
   "outputs": [],
   "source": [
    "with open(\"bucket_list.txt\", \"w\") as data_file:\n",
    "    data_file.write(str(bucket_list))"
   ]
  },
  {
   "cell_type": "code",
   "execution_count": null,
   "id": "833f8af8",
   "metadata": {},
   "outputs": [],
   "source": [
    "s3.create_bucket(Bucket=\"test-\" + str(random_seven_digit))"
   ]
  },
  {
   "cell_type": "code",
   "execution_count": null,
   "id": "78713d54",
   "metadata": {},
   "outputs": [],
   "source": [
    "bucket = s3.Bucket(name=\"test-9415358\")"
   ]
  },
  {
   "cell_type": "code",
   "execution_count": null,
   "id": "97b7b5bd",
   "metadata": {},
   "outputs": [],
   "source": [
    "bucket.upload_file(Filename=\"bucket_list.txt\", Key=\"uploaded_files\")"
   ]
  },
  {
   "cell_type": "code",
   "execution_count": null,
   "id": "a25b1501",
   "metadata": {},
   "outputs": [],
   "source": [
    "list(bucket.objects.all())"
   ]
  },
  {
   "cell_type": "code",
   "execution_count": null,
   "id": "ec590b3c",
   "metadata": {},
   "outputs": [],
   "source": [
    "bucket.download_file(Filename=\"new_download.txt\", Key=\"uploaded_files\")"
   ]
  },
  {
   "cell_type": "code",
   "execution_count": null,
   "id": "b994afe6",
   "metadata": {},
   "outputs": [],
   "source": [
    "bucket.delete_objects(Bucket=\"test-9415358\", Key=\"uploaded_files\")"
   ]
  }
 ],
 "metadata": {
  "kernelspec": {
   "display_name": "boto3_aws",
   "language": "python",
   "name": "python3"
  },
  "language_info": {
   "codemirror_mode": {
    "name": "ipython",
    "version": 3
   },
   "file_extension": ".py",
   "mimetype": "text/x-python",
   "name": "python",
   "nbconvert_exporter": "python",
   "pygments_lexer": "ipython3",
   "version": "3.13.2"
  }
 },
 "nbformat": 4,
 "nbformat_minor": 5
}
