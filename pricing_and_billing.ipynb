{
 "cells": [
  {
   "cell_type": "markdown",
   "id": "d8b10fa8",
   "metadata": {},
   "source": [
    "# Billing with Cost Explorere API"
   ]
  },
  {
   "cell_type": "markdown",
   "id": "7bb0f3cb",
   "metadata": {},
   "source": [
    "- CostExplorer only has Client available.  No paginators, waiters or resources."
   ]
  },
  {
   "cell_type": "code",
   "execution_count": 1,
   "id": "8a5f68eb",
   "metadata": {},
   "outputs": [],
   "source": [
    "import boto3"
   ]
  },
  {
   "cell_type": "code",
   "execution_count": 12,
   "id": "5936cb5e",
   "metadata": {},
   "outputs": [],
   "source": [
    "billing_client = boto3.client(\"ce\")"
   ]
  },
  {
   "cell_type": "code",
   "execution_count": 7,
   "id": "9784faad",
   "metadata": {},
   "outputs": [
    {
     "name": "stdout",
     "output_type": "stream",
     "text": [
      "2025-02-18\n"
     ]
    }
   ],
   "source": [
    "from datetime import datetime, timedelta\n",
    "\n",
    "start_date = (datetime.now() - timedelta(days=90)).strftime(\"%Y-%m-%d\")\n",
    "\n",
    "print(start_date)"
   ]
  },
  {
   "cell_type": "code",
   "execution_count": 9,
   "id": "1bb80a29",
   "metadata": {},
   "outputs": [
    {
     "name": "stdout",
     "output_type": "stream",
     "text": [
      "2025-05-19\n"
     ]
    }
   ],
   "source": [
    "end_date = datetime.now().strftime(\"%Y-%m-%d\")\n",
    "print(end_date)"
   ]
  },
  {
   "cell_type": "code",
   "execution_count": 10,
   "id": "1f7896cb",
   "metadata": {},
   "outputs": [],
   "source": [
    "time_period = {\"Start\": start_date, \"End\": end_date}"
   ]
  },
  {
   "cell_type": "code",
   "execution_count": 15,
   "id": "06b31bf9",
   "metadata": {},
   "outputs": [],
   "source": [
    "response = billing_client.get_cost_and_usage(\n",
    "    TimePeriod=time_period, Granularity=\"MONTHLY\", Metrics=[\"UnblendedCost\"]\n",
    ")"
   ]
  },
  {
   "cell_type": "code",
   "execution_count": 16,
   "id": "d6a13503",
   "metadata": {},
   "outputs": [
    {
     "data": {
      "text/plain": [
       "{'ResultsByTime': [{'TimePeriod': {'Start': '2025-02-18', 'End': '2025-03-01'},\n",
       "   'Total': {'UnblendedCost': {'Amount': '5.9862576583', 'Unit': 'USD'}},\n",
       "   'Groups': [],\n",
       "   'Estimated': False},\n",
       "  {'TimePeriod': {'Start': '2025-03-01', 'End': '2025-04-01'},\n",
       "   'Total': {'UnblendedCost': {'Amount': '15.6397995641', 'Unit': 'USD'}},\n",
       "   'Groups': [],\n",
       "   'Estimated': False},\n",
       "  {'TimePeriod': {'Start': '2025-04-01', 'End': '2025-05-01'},\n",
       "   'Total': {'UnblendedCost': {'Amount': '8.458475522', 'Unit': 'USD'}},\n",
       "   'Groups': [],\n",
       "   'Estimated': False},\n",
       "  {'TimePeriod': {'Start': '2025-05-01', 'End': '2025-05-19'},\n",
       "   'Total': {'UnblendedCost': {'Amount': '5.0963194559', 'Unit': 'USD'}},\n",
       "   'Groups': [],\n",
       "   'Estimated': True}],\n",
       " 'DimensionValueAttributes': [],\n",
       " 'ResponseMetadata': {'RequestId': 'd1ae984f-51ca-4d36-8485-e25b3cf5bc8f',\n",
       "  'HTTPStatusCode': 200,\n",
       "  'HTTPHeaders': {'date': 'Mon, 19 May 2025 07:54:49 GMT',\n",
       "   'content-type': 'application/x-amz-json-1.1',\n",
       "   'content-length': '656',\n",
       "   'connection': 'keep-alive',\n",
       "   'x-amzn-requestid': 'd1ae984f-51ca-4d36-8485-e25b3cf5bc8f',\n",
       "   'cache-control': 'no-cache'},\n",
       "  'RetryAttempts': 0}}"
      ]
     },
     "execution_count": 16,
     "metadata": {},
     "output_type": "execute_result"
    }
   ],
   "source": [
    "response"
   ]
  },
  {
   "cell_type": "code",
   "execution_count": 25,
   "id": "73d01914",
   "metadata": {},
   "outputs": [
    {
     "name": "stdout",
     "output_type": "stream",
     "text": [
      "{'Start': '2025-02-18', 'End': '2025-03-01'}\n",
      "{'UnblendedCost': {'Amount': '5.9862576583', 'Unit': 'USD'}}\n",
      "{'Start': '2025-03-01', 'End': '2025-04-01'}\n",
      "{'UnblendedCost': {'Amount': '15.6397995641', 'Unit': 'USD'}}\n",
      "{'Start': '2025-04-01', 'End': '2025-05-01'}\n",
      "{'UnblendedCost': {'Amount': '8.458475522', 'Unit': 'USD'}}\n",
      "{'Start': '2025-05-01', 'End': '2025-05-19'}\n",
      "{'UnblendedCost': {'Amount': '5.0963194559', 'Unit': 'USD'}}\n"
     ]
    }
   ],
   "source": [
    "for item in response[\"ResultsByTime\"]:\n",
    "    print(item[\"TimePeriod\"])\n",
    "    print(item[\"Total\"])"
   ]
  },
  {
   "cell_type": "code",
   "execution_count": 26,
   "id": "ac6948df",
   "metadata": {},
   "outputs": [],
   "source": [
    "response = billing_client.get_dimension_values(\n",
    "    TimePeriod=time_period, Dimension=\"SERVICE\"\n",
    ")"
   ]
  },
  {
   "cell_type": "code",
   "execution_count": 28,
   "id": "68923563",
   "metadata": {},
   "outputs": [
    {
     "name": "stdout",
     "output_type": "stream",
     "text": [
      "AWS Amplify\n",
      "AWS CloudFormation\n",
      "AWS CodeCommit\n",
      "AWS End User Messaging\n",
      "AWS Glue\n",
      "AWS IoT\n",
      "AWS Key Management Service\n",
      "AWS Lambda\n",
      "AWS Secrets Manager\n",
      "Amazon Cognito\n",
      "Amazon DynamoDB\n",
      "Amazon EC2 Container Registry (ECR)\n",
      "EC2 - Other\n",
      "Amazon Elastic Container Registry Public\n",
      "Amazon Elastic Container Service\n",
      "Amazon Elastic File System\n",
      "Amazon Elastic Load Balancing\n",
      "Amazon Lightsail\n",
      "Amazon Location Service\n",
      "Amazon Route 53\n",
      "Amazon Simple Notification Service\n",
      "Amazon Simple Queue Service\n",
      "Amazon Simple Storage Service\n",
      "Amazon Virtual Private Cloud\n",
      "AmazonCloudWatch\n",
      "AmazonWorkMail\n",
      "Tax\n"
     ]
    }
   ],
   "source": [
    "for item in response[\"DimensionValues\"]:\n",
    "    print(item[\"Value\"])"
   ]
  },
  {
   "cell_type": "code",
   "execution_count": 31,
   "id": "a80935b0",
   "metadata": {},
   "outputs": [
    {
     "data": {
      "text/plain": [
       "{'GroupDefinitions': [{'Type': 'DIMENSION', 'Key': 'SERVICE'}],\n",
       " 'ResultsByTime': [{'TimePeriod': {'Start': '2025-02-18', 'End': '2025-03-01'},\n",
       "   'Total': {},\n",
       "   'Groups': [{'Keys': ['AWS Amplify'],\n",
       "     'Metrics': {'UnblendedCost': {'Amount': '0.0000074612', 'Unit': 'USD'}}},\n",
       "    {'Keys': ['AWS CloudFormation'],\n",
       "     'Metrics': {'UnblendedCost': {'Amount': '0', 'Unit': 'USD'}}},\n",
       "    {'Keys': ['AWS CodeCommit'],\n",
       "     'Metrics': {'UnblendedCost': {'Amount': '0', 'Unit': 'USD'}}},\n",
       "    {'Keys': ['AWS End User Messaging'],\n",
       "     'Metrics': {'UnblendedCost': {'Amount': '0.0438562545', 'Unit': 'USD'}}},\n",
       "    {'Keys': ['AWS Glue'],\n",
       "     'Metrics': {'UnblendedCost': {'Amount': '0', 'Unit': 'USD'}}},\n",
       "    {'Keys': ['AWS IoT'],\n",
       "     'Metrics': {'UnblendedCost': {'Amount': '0.00001566', 'Unit': 'USD'}}},\n",
       "    {'Keys': ['AWS Key Management Service'],\n",
       "     'Metrics': {'UnblendedCost': {'Amount': '0', 'Unit': 'USD'}}},\n",
       "    {'Keys': ['AWS Lambda'],\n",
       "     'Metrics': {'UnblendedCost': {'Amount': '0', 'Unit': 'USD'}}},\n",
       "    {'Keys': ['AWS Secrets Manager'],\n",
       "     'Metrics': {'UnblendedCost': {'Amount': '0.00019', 'Unit': 'USD'}}},\n",
       "    {'Keys': ['Amazon DynamoDB'],\n",
       "     'Metrics': {'UnblendedCost': {'Amount': '0.0000008232', 'Unit': 'USD'}}},\n",
       "    {'Keys': ['EC2 - Other'],\n",
       "     'Metrics': {'UnblendedCost': {'Amount': '1.4025', 'Unit': 'USD'}}},\n",
       "    {'Keys': ['Amazon Elastic Container Registry Public'],\n",
       "     'Metrics': {'UnblendedCost': {'Amount': '0', 'Unit': 'USD'}}},\n",
       "    {'Keys': ['Amazon Elastic File System'],\n",
       "     'Metrics': {'UnblendedCost': {'Amount': '0.0000013728', 'Unit': 'USD'}}},\n",
       "    {'Keys': ['Amazon Lightsail'],\n",
       "     'Metrics': {'UnblendedCost': {'Amount': '2.1020054647', 'Unit': 'USD'}}},\n",
       "    {'Keys': ['Amazon Location Service'],\n",
       "     'Metrics': {'UnblendedCost': {'Amount': '0.000558', 'Unit': 'USD'}}},\n",
       "    {'Keys': ['Amazon Route 53'],\n",
       "     'Metrics': {'UnblendedCost': {'Amount': '0.0055656', 'Unit': 'USD'}}},\n",
       "    {'Keys': ['Amazon Simple Notification Service'],\n",
       "     'Metrics': {'UnblendedCost': {'Amount': '0', 'Unit': 'USD'}}},\n",
       "    {'Keys': ['Amazon Simple Queue Service'],\n",
       "     'Metrics': {'UnblendedCost': {'Amount': '0', 'Unit': 'USD'}}},\n",
       "    {'Keys': ['Amazon Simple Storage Service'],\n",
       "     'Metrics': {'UnblendedCost': {'Amount': '0.8601284907', 'Unit': 'USD'}}},\n",
       "    {'Keys': ['AmazonCloudWatch'],\n",
       "     'Metrics': {'UnblendedCost': {'Amount': '0', 'Unit': 'USD'}}},\n",
       "    {'Keys': ['AmazonWorkMail'],\n",
       "     'Metrics': {'UnblendedCost': {'Amount': '1.5714285312', 'Unit': 'USD'}}}],\n",
       "   'Estimated': False},\n",
       "  {'TimePeriod': {'Start': '2025-03-01', 'End': '2025-04-01'},\n",
       "   'Total': {},\n",
       "   'Groups': [{'Keys': ['AWS Glue'],\n",
       "     'Metrics': {'UnblendedCost': {'Amount': '0', 'Unit': 'USD'}}},\n",
       "    {'Keys': ['AWS IoT'],\n",
       "     'Metrics': {'UnblendedCost': {'Amount': '0.0000075', 'Unit': 'USD'}}},\n",
       "    {'Keys': ['AWS Key Management Service'],\n",
       "     'Metrics': {'UnblendedCost': {'Amount': '0', 'Unit': 'USD'}}},\n",
       "    {'Keys': ['AWS Lambda'],\n",
       "     'Metrics': {'UnblendedCost': {'Amount': '0', 'Unit': 'USD'}}},\n",
       "    {'Keys': ['AWS Secrets Manager'],\n",
       "     'Metrics': {'UnblendedCost': {'Amount': '0.000525', 'Unit': 'USD'}}},\n",
       "    {'Keys': ['Amazon DynamoDB'],\n",
       "     'Metrics': {'UnblendedCost': {'Amount': '0', 'Unit': 'USD'}}},\n",
       "    {'Keys': ['EC2 - Other'],\n",
       "     'Metrics': {'UnblendedCost': {'Amount': '3.1944915568', 'Unit': 'USD'}}},\n",
       "    {'Keys': ['Amazon Elastic Container Registry Public'],\n",
       "     'Metrics': {'UnblendedCost': {'Amount': '0', 'Unit': 'USD'}}},\n",
       "    {'Keys': ['Amazon Elastic File System'],\n",
       "     'Metrics': {'UnblendedCost': {'Amount': '0.0000034224', 'Unit': 'USD'}}},\n",
       "    {'Keys': ['Amazon Lightsail'],\n",
       "     'Metrics': {'UnblendedCost': {'Amount': '4.7431474398', 'Unit': 'USD'}}},\n",
       "    {'Keys': ['Amazon Location Service'],\n",
       "     'Metrics': {'UnblendedCost': {'Amount': '0.0017725', 'Unit': 'USD'}}},\n",
       "    {'Keys': ['Amazon Route 53'],\n",
       "     'Metrics': {'UnblendedCost': {'Amount': '1.5112644', 'Unit': 'USD'}}},\n",
       "    {'Keys': ['Amazon Simple Notification Service'],\n",
       "     'Metrics': {'UnblendedCost': {'Amount': '0', 'Unit': 'USD'}}},\n",
       "    {'Keys': ['Amazon Simple Queue Service'],\n",
       "     'Metrics': {'UnblendedCost': {'Amount': '0', 'Unit': 'USD'}}},\n",
       "    {'Keys': ['Amazon Simple Storage Service'],\n",
       "     'Metrics': {'UnblendedCost': {'Amount': '2.1885878091', 'Unit': 'USD'}}},\n",
       "    {'Keys': ['AmazonCloudWatch'],\n",
       "     'Metrics': {'UnblendedCost': {'Amount': '0', 'Unit': 'USD'}}},\n",
       "    {'Keys': ['AmazonWorkMail'],\n",
       "     'Metrics': {'UnblendedCost': {'Amount': '3.999999936', 'Unit': 'USD'}}},\n",
       "    {'Keys': ['Tax'],\n",
       "     'Metrics': {'UnblendedCost': {'Amount': '0', 'Unit': 'USD'}}}],\n",
       "   'Estimated': False},\n",
       "  {'TimePeriod': {'Start': '2025-04-01', 'End': '2025-05-01'},\n",
       "   'Total': {},\n",
       "   'Groups': [{'Keys': ['AWS CloudFormation'],\n",
       "     'Metrics': {'UnblendedCost': {'Amount': '0', 'Unit': 'USD'}}},\n",
       "    {'Keys': ['AWS Glue'],\n",
       "     'Metrics': {'UnblendedCost': {'Amount': '0', 'Unit': 'USD'}}},\n",
       "    {'Keys': ['AWS IoT'],\n",
       "     'Metrics': {'UnblendedCost': {'Amount': '0.0000075', 'Unit': 'USD'}}},\n",
       "    {'Keys': ['AWS Key Management Service'],\n",
       "     'Metrics': {'UnblendedCost': {'Amount': '0', 'Unit': 'USD'}}},\n",
       "    {'Keys': ['AWS Lambda'],\n",
       "     'Metrics': {'UnblendedCost': {'Amount': '0', 'Unit': 'USD'}}},\n",
       "    {'Keys': ['AWS Secrets Manager'],\n",
       "     'Metrics': {'UnblendedCost': {'Amount': '0.00051', 'Unit': 'USD'}}},\n",
       "    {'Keys': ['Amazon Cognito'],\n",
       "     'Metrics': {'UnblendedCost': {'Amount': '0', 'Unit': 'USD'}}},\n",
       "    {'Keys': ['Amazon DynamoDB'],\n",
       "     'Metrics': {'UnblendedCost': {'Amount': '0', 'Unit': 'USD'}}},\n",
       "    {'Keys': ['Amazon EC2 Container Registry (ECR)'],\n",
       "     'Metrics': {'UnblendedCost': {'Amount': '0.0436639732', 'Unit': 'USD'}}},\n",
       "    {'Keys': ['Amazon Elastic Container Registry Public'],\n",
       "     'Metrics': {'UnblendedCost': {'Amount': '0', 'Unit': 'USD'}}},\n",
       "    {'Keys': ['Amazon Elastic Container Service'],\n",
       "     'Metrics': {'UnblendedCost': {'Amount': '0.11469094', 'Unit': 'USD'}}},\n",
       "    {'Keys': ['Amazon Elastic File System'],\n",
       "     'Metrics': {'UnblendedCost': {'Amount': '0.000003516', 'Unit': 'USD'}}},\n",
       "    {'Keys': ['Amazon Elastic Load Balancing'],\n",
       "     'Metrics': {'UnblendedCost': {'Amount': '0.4276514478', 'Unit': 'USD'}}},\n",
       "    {'Keys': ['Amazon Location Service'],\n",
       "     'Metrics': {'UnblendedCost': {'Amount': '0.002331', 'Unit': 'USD'}}},\n",
       "    {'Keys': ['Amazon Route 53'],\n",
       "     'Metrics': {'UnblendedCost': {'Amount': '1.5119192', 'Unit': 'USD'}}},\n",
       "    {'Keys': ['Amazon Simple Notification Service'],\n",
       "     'Metrics': {'UnblendedCost': {'Amount': '0', 'Unit': 'USD'}}},\n",
       "    {'Keys': ['Amazon Simple Queue Service'],\n",
       "     'Metrics': {'UnblendedCost': {'Amount': '0', 'Unit': 'USD'}}},\n",
       "    {'Keys': ['Amazon Simple Storage Service'],\n",
       "     'Metrics': {'UnblendedCost': {'Amount': '2.188586488', 'Unit': 'USD'}}},\n",
       "    {'Keys': ['Amazon Virtual Private Cloud'],\n",
       "     'Metrics': {'UnblendedCost': {'Amount': '0.169111425', 'Unit': 'USD'}}},\n",
       "    {'Keys': ['AmazonCloudWatch'],\n",
       "     'Metrics': {'UnblendedCost': {'Amount': '0', 'Unit': 'USD'}}},\n",
       "    {'Keys': ['AmazonWorkMail'],\n",
       "     'Metrics': {'UnblendedCost': {'Amount': '4.000000032', 'Unit': 'USD'}}},\n",
       "    {'Keys': ['Tax'],\n",
       "     'Metrics': {'UnblendedCost': {'Amount': '0', 'Unit': 'USD'}}}],\n",
       "   'Estimated': False},\n",
       "  {'TimePeriod': {'Start': '2025-05-01', 'End': '2025-05-19'},\n",
       "   'Total': {},\n",
       "   'Groups': [{'Keys': ['AWS Glue'],\n",
       "     'Metrics': {'UnblendedCost': {'Amount': '0', 'Unit': 'USD'}}},\n",
       "    {'Keys': ['AWS IoT'],\n",
       "     'Metrics': {'UnblendedCost': {'Amount': '0.00000375', 'Unit': 'USD'}}},\n",
       "    {'Keys': ['AWS Key Management Service'],\n",
       "     'Metrics': {'UnblendedCost': {'Amount': '0', 'Unit': 'USD'}}},\n",
       "    {'Keys': ['AWS Lambda'],\n",
       "     'Metrics': {'UnblendedCost': {'Amount': '0', 'Unit': 'USD'}}},\n",
       "    {'Keys': ['AWS Secrets Manager'],\n",
       "     'Metrics': {'UnblendedCost': {'Amount': '0.00023', 'Unit': 'USD'}}},\n",
       "    {'Keys': ['Amazon DynamoDB'],\n",
       "     'Metrics': {'UnblendedCost': {'Amount': '0', 'Unit': 'USD'}}},\n",
       "    {'Keys': ['Amazon EC2 Container Registry (ECR)'],\n",
       "     'Metrics': {'UnblendedCost': {'Amount': '0.0317866016', 'Unit': 'USD'}}},\n",
       "    {'Keys': ['Amazon Elastic Container Registry Public'],\n",
       "     'Metrics': {'UnblendedCost': {'Amount': '0', 'Unit': 'USD'}}},\n",
       "    {'Keys': ['Amazon Elastic File System'],\n",
       "     'Metrics': {'UnblendedCost': {'Amount': '0.000001955', 'Unit': 'USD'}}},\n",
       "    {'Keys': ['Amazon Location Service'],\n",
       "     'Metrics': {'UnblendedCost': {'Amount': '0.0010355', 'Unit': 'USD'}}},\n",
       "    {'Keys': ['Amazon Route 53'],\n",
       "     'Metrics': {'UnblendedCost': {'Amount': '1.5072276', 'Unit': 'USD'}}},\n",
       "    {'Keys': ['Amazon Simple Notification Service'],\n",
       "     'Metrics': {'UnblendedCost': {'Amount': '0', 'Unit': 'USD'}}},\n",
       "    {'Keys': ['Amazon Simple Queue Service'],\n",
       "     'Metrics': {'UnblendedCost': {'Amount': '0', 'Unit': 'USD'}}},\n",
       "    {'Keys': ['Amazon Simple Storage Service'],\n",
       "     'Metrics': {'UnblendedCost': {'Amount': '1.2710878493', 'Unit': 'USD'}}},\n",
       "    {'Keys': ['AmazonCloudWatch'],\n",
       "     'Metrics': {'UnblendedCost': {'Amount': '0', 'Unit': 'USD'}}},\n",
       "    {'Keys': ['AmazonWorkMail'],\n",
       "     'Metrics': {'UnblendedCost': {'Amount': '2.2849462', 'Unit': 'USD'}}},\n",
       "    {'Keys': ['Tax'],\n",
       "     'Metrics': {'UnblendedCost': {'Amount': '0', 'Unit': 'USD'}}}],\n",
       "   'Estimated': True}],\n",
       " 'DimensionValueAttributes': [],\n",
       " 'ResponseMetadata': {'RequestId': '92034da9-bc65-4ff3-b00f-b18113193873',\n",
       "  'HTTPStatusCode': 200,\n",
       "  'HTTPHeaders': {'date': 'Mon, 19 May 2025 08:11:48 GMT',\n",
       "   'content-type': 'application/x-amz-json-1.1',\n",
       "   'content-length': '7877',\n",
       "   'connection': 'keep-alive',\n",
       "   'x-amzn-requestid': '92034da9-bc65-4ff3-b00f-b18113193873',\n",
       "   'cache-control': 'no-cache'},\n",
       "  'RetryAttempts': 0}}"
      ]
     },
     "execution_count": 31,
     "metadata": {},
     "output_type": "execute_result"
    }
   ],
   "source": [
    "billing_client.get_cost_and_usage(\n",
    "    TimePeriod=time_period,\n",
    "    Granularity=\"MONTHLY\",\n",
    "    Metrics=[\"UnblendedCost\"],\n",
    "    GroupBy=[{\"Type\": \"DIMENSION\", \"Key\": \"SERVICE\"}],\n",
    ")"
   ]
  },
  {
   "cell_type": "code",
   "execution_count": 37,
   "id": "0ab512d0",
   "metadata": {},
   "outputs": [
    {
     "name": "stdout",
     "output_type": "stream",
     "text": [
      "2025-06-25\n"
     ]
    }
   ],
   "source": [
    "forecast_start_date = datetime.now().strftime(\"%Y-%m-%d\")\n",
    "forecast_end_date = (datetime.now() + timedelta(days=30)).strftime(\"%Y-%m-%y\")\n",
    "print(forecast_end_date)\n",
    "forecast_time_period = {\"Start\": forecast_start_date, \"End\": forecast_end_date}"
   ]
  },
  {
   "cell_type": "code",
   "execution_count": 39,
   "id": "507220be",
   "metadata": {},
   "outputs": [
    {
     "data": {
      "text/plain": [
       "{'Total': {'Amount': '15.841882285578922', 'Unit': 'USD'},\n",
       " 'ForecastResultsByTime': [{'TimePeriod': {'Start': '2025-05-01',\n",
       "    'End': '2025-06-01'},\n",
       "   'MeanValue': '7.880926307728249'},\n",
       "  {'TimePeriod': {'Start': '2025-06-01', 'End': '2025-07-01'},\n",
       "   'MeanValue': '7.960955977850673'}],\n",
       " 'ResponseMetadata': {'RequestId': '2a3b0db1-c515-48fd-ad9e-32a1681730a7',\n",
       "  'HTTPStatusCode': 200,\n",
       "  'HTTPHeaders': {'date': 'Mon, 19 May 2025 08:22:45 GMT',\n",
       "   'content-type': 'application/x-amz-json-1.1',\n",
       "   'content-length': '258',\n",
       "   'connection': 'keep-alive',\n",
       "   'x-amzn-requestid': '2a3b0db1-c515-48fd-ad9e-32a1681730a7',\n",
       "   'cache-control': 'no-store, no-cache'},\n",
       "  'RetryAttempts': 0}}"
      ]
     },
     "execution_count": 39,
     "metadata": {},
     "output_type": "execute_result"
    }
   ],
   "source": [
    "billing_client.get_cost_forecast(\n",
    "    TimePeriod=forecast_time_period, Granularity=\"MONTHLY\", Metric=\"UNBLENDED_COST\"\n",
    ")"
   ]
  },
  {
   "cell_type": "markdown",
   "id": "5f71ae2d",
   "metadata": {},
   "source": []
  },
  {
   "cell_type": "code",
   "execution_count": null,
   "id": "0b3152d2",
   "metadata": {},
   "outputs": [],
   "source": []
  }
 ],
 "metadata": {
  "kernelspec": {
   "display_name": "boto3_aws",
   "language": "python",
   "name": "python3"
  },
  "language_info": {
   "codemirror_mode": {
    "name": "ipython",
    "version": 3
   },
   "file_extension": ".py",
   "mimetype": "text/x-python",
   "name": "python",
   "nbconvert_exporter": "python",
   "pygments_lexer": "ipython3",
   "version": "3.13.2"
  }
 },
 "nbformat": 4,
 "nbformat_minor": 5
}
