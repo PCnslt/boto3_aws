{
 "cells": [
  {
   "cell_type": "markdown",
   "id": "d8b10fa8",
   "metadata": {},
   "source": [
    "# Billing with Cost Explorer API"
   ]
  },
  {
   "cell_type": "markdown",
   "id": "7bb0f3cb",
   "metadata": {},
   "source": [
    "- CostExplorer only has Client available.  No paginators, waiters or resources."
   ]
  },
  {
   "cell_type": "code",
   "execution_count": null,
   "id": "8a5f68eb",
   "metadata": {},
   "outputs": [],
   "source": [
    "import boto3"
   ]
  },
  {
   "cell_type": "code",
   "execution_count": null,
   "id": "5936cb5e",
   "metadata": {},
   "outputs": [],
   "source": [
    "billing_client = boto3.client(\"ce\")"
   ]
  },
  {
   "cell_type": "code",
   "execution_count": null,
   "id": "9784faad",
   "metadata": {},
   "outputs": [],
   "source": [
    "from datetime import datetime, timedelta\n",
    "\n",
    "start_date = (datetime.now() - timedelta(days=90)).strftime(\"%Y-%m-%d\")\n",
    "\n",
    "print(start_date)"
   ]
  },
  {
   "cell_type": "code",
   "execution_count": null,
   "id": "1bb80a29",
   "metadata": {},
   "outputs": [],
   "source": [
    "end_date = datetime.now().strftime(\"%Y-%m-%d\")\n",
    "print(end_date)"
   ]
  },
  {
   "cell_type": "code",
   "execution_count": null,
   "id": "1f7896cb",
   "metadata": {},
   "outputs": [],
   "source": [
    "time_period = {\"Start\": start_date, \"End\": end_date}"
   ]
  },
  {
   "cell_type": "code",
   "execution_count": null,
   "id": "06b31bf9",
   "metadata": {},
   "outputs": [],
   "source": [
    "response = billing_client.get_cost_and_usage(\n",
    "    TimePeriod=time_period, Granularity=\"MONTHLY\", Metrics=[\"UnblendedCost\"]\n",
    ")"
   ]
  },
  {
   "cell_type": "code",
   "execution_count": null,
   "id": "d6a13503",
   "metadata": {},
   "outputs": [],
   "source": [
    "response"
   ]
  },
  {
   "cell_type": "code",
   "execution_count": null,
   "id": "73d01914",
   "metadata": {},
   "outputs": [],
   "source": [
    "for item in response[\"ResultsByTime\"]:\n",
    "    print(item[\"TimePeriod\"])\n",
    "    print(item[\"Total\"])"
   ]
  },
  {
   "cell_type": "code",
   "execution_count": null,
   "id": "ac6948df",
   "metadata": {},
   "outputs": [],
   "source": [
    "response = billing_client.get_dimension_values(\n",
    "    TimePeriod=time_period, Dimension=\"SERVICE\"\n",
    ")"
   ]
  },
  {
   "cell_type": "code",
   "execution_count": null,
   "id": "68923563",
   "metadata": {},
   "outputs": [],
   "source": [
    "for item in response[\"DimensionValues\"]:\n",
    "    print(item[\"Value\"])"
   ]
  },
  {
   "cell_type": "code",
   "execution_count": null,
   "id": "a80935b0",
   "metadata": {},
   "outputs": [],
   "source": [
    "billing_client.get_cost_and_usage(\n",
    "    TimePeriod=time_period,\n",
    "    Granularity=\"MONTHLY\",\n",
    "    Metrics=[\"UnblendedCost\"],\n",
    "    GroupBy=[{\"Type\": \"DIMENSION\", \"Key\": \"SERVICE\"}],\n",
    ")"
   ]
  },
  {
   "cell_type": "code",
   "execution_count": null,
   "id": "0ab512d0",
   "metadata": {},
   "outputs": [],
   "source": [
    "forecast_start_date = datetime.now().strftime(\"%Y-%m-%d\")\n",
    "forecast_end_date = (datetime.now() + timedelta(days=30)).strftime(\"%Y-%m-%y\")\n",
    "print(forecast_end_date)\n",
    "forecast_time_period = {\"Start\": forecast_start_date, \"End\": forecast_end_date}"
   ]
  },
  {
   "cell_type": "code",
   "execution_count": null,
   "id": "507220be",
   "metadata": {},
   "outputs": [],
   "source": [
    "billing_client.get_cost_forecast(\n",
    "    TimePeriod=forecast_time_period, Granularity=\"MONTHLY\", Metric=\"UNBLENDED_COST\"\n",
    ")"
   ]
  },
  {
   "cell_type": "markdown",
   "id": "5f71ae2d",
   "metadata": {},
   "source": []
  },
  {
   "cell_type": "code",
   "execution_count": null,
   "id": "0b3152d2",
   "metadata": {},
   "outputs": [],
   "source": []
  }
 ],
 "metadata": {
  "kernelspec": {
   "display_name": "boto3_aws",
   "language": "python",
   "name": "python3"
  },
  "language_info": {
   "codemirror_mode": {
    "name": "ipython",
    "version": 3
   },
   "file_extension": ".py",
   "mimetype": "text/x-python",
   "name": "python",
   "nbconvert_exporter": "python",
   "pygments_lexer": "ipython3",
   "version": "3.13.2"
  }
 },
 "nbformat": 4,
 "nbformat_minor": 5
}
