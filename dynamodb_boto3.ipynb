{
 "cells": [
  {
   "cell_type": "code",
   "execution_count": 6,
   "id": "8abb9bab",
   "metadata": {},
   "outputs": [],
   "source": [
    "import boto3"
   ]
  },
  {
   "cell_type": "code",
   "execution_count": 7,
   "id": "75bb00aa",
   "metadata": {},
   "outputs": [],
   "source": [
    "ddb_client = boto3.client(\"dynamodb\")"
   ]
  },
  {
   "cell_type": "code",
   "execution_count": 4,
   "id": "a4827915",
   "metadata": {},
   "outputs": [],
   "source": [
    "table_name = \"Movies\""
   ]
  },
  {
   "cell_type": "code",
   "execution_count": 5,
   "id": "31655cd8",
   "metadata": {},
   "outputs": [],
   "source": [
    "attributes = [\n",
    "    {\"AttributeName\": \"Title\", \"AttributeType\": \"S\"},\n",
    "    {\"AttributeName\": \"Rating\", \"AttributeType\": \"N\"},\n",
    "]"
   ]
  },
  {
   "cell_type": "code",
   "execution_count": 6,
   "id": "8ad7e159",
   "metadata": {},
   "outputs": [],
   "source": [
    "key_schema = [\n",
    "    {\"AttributeName\": \"Title\", \"KeyType\": \"HASH\"},\n",
    "    {\"AttributeName\": \"Rating\", \"KeyType\": \"RANGE\"},\n",
    "]"
   ]
  },
  {
   "cell_type": "code",
   "execution_count": 7,
   "id": "e199a9da",
   "metadata": {},
   "outputs": [],
   "source": [
    "provisioned_throughput = {\"ReadCapacityUnits\": 1, \"WriteCapacityUnits\": 1}"
   ]
  },
  {
   "cell_type": "code",
   "execution_count": null,
   "id": "3a55a855",
   "metadata": {},
   "outputs": [],
   "source": [
    "response = ddb_client.create_table(\n",
    "    TableName=table_name,\n",
    "    AttributeDefinitions=attributes,\n",
    "    KeySchema=key_schema,\n",
    "    ProvisionedThroughput=provisioned_throughput,\n",
    ")"
   ]
  },
  {
   "cell_type": "code",
   "execution_count": 9,
   "id": "142f4a5f",
   "metadata": {},
   "outputs": [
    {
     "data": {
      "text/plain": [
       "{'TableDescription': {'AttributeDefinitions': [{'AttributeName': 'Rating',\n",
       "    'AttributeType': 'N'},\n",
       "   {'AttributeName': 'Title', 'AttributeType': 'S'}],\n",
       "  'TableName': 'Movies',\n",
       "  'KeySchema': [{'AttributeName': 'Title', 'KeyType': 'HASH'},\n",
       "   {'AttributeName': 'Rating', 'KeyType': 'RANGE'}],\n",
       "  'TableStatus': 'CREATING',\n",
       "  'CreationDateTime': datetime.datetime(2025, 5, 19, 10, 12, 35, 693000, tzinfo=tzlocal()),\n",
       "  'ProvisionedThroughput': {'NumberOfDecreasesToday': 0,\n",
       "   'ReadCapacityUnits': 1,\n",
       "   'WriteCapacityUnits': 1},\n",
       "  'TableSizeBytes': 0,\n",
       "  'ItemCount': 0,\n",
       "  'TableArn': 'arn:aws:dynamodb:us-east-1:601621467089:table/Movies',\n",
       "  'TableId': '2682606e-5024-4ebf-ab3e-a186077de2c2',\n",
       "  'DeletionProtectionEnabled': False},\n",
       " 'ResponseMetadata': {'RequestId': 'R17P2F9HKJI41061TU6VQE85KFVV4KQNSO5AEMVJF66Q9ASUAAJG',\n",
       "  'HTTPStatusCode': 200,\n",
       "  'HTTPHeaders': {'server': 'Server',\n",
       "   'date': 'Mon, 19 May 2025 14:12:35 GMT',\n",
       "   'content-type': 'application/x-amz-json-1.0',\n",
       "   'content-length': '604',\n",
       "   'connection': 'keep-alive',\n",
       "   'x-amzn-requestid': 'R17P2F9HKJI41061TU6VQE85KFVV4KQNSO5AEMVJF66Q9ASUAAJG',\n",
       "   'x-amz-crc32': '1188425840'},\n",
       "  'RetryAttempts': 0}}"
      ]
     },
     "execution_count": 9,
     "metadata": {},
     "output_type": "execute_result"
    }
   ],
   "source": [
    "response"
   ]
  },
  {
   "cell_type": "code",
   "execution_count": 14,
   "id": "646204d7",
   "metadata": {},
   "outputs": [
    {
     "data": {
      "text/plain": [
       "{'TableNames': ['Movies', 'cloud-gear-instances', 'cloud-gear-users'],\n",
       " 'ResponseMetadata': {'RequestId': '4PUH323UNLPL0HHC909VNI3GJVVV4KQNSO5AEMVJF66Q9ASUAAJG',\n",
       "  'HTTPStatusCode': 200,\n",
       "  'HTTPHeaders': {'server': 'Server',\n",
       "   'date': 'Mon, 19 May 2025 14:14:30 GMT',\n",
       "   'content-type': 'application/x-amz-json-1.0',\n",
       "   'content-length': '67',\n",
       "   'connection': 'keep-alive',\n",
       "   'x-amzn-requestid': '4PUH323UNLPL0HHC909VNI3GJVVV4KQNSO5AEMVJF66Q9ASUAAJG',\n",
       "   'x-amz-crc32': '317816819'},\n",
       "  'RetryAttempts': 0}}"
      ]
     },
     "execution_count": 14,
     "metadata": {},
     "output_type": "execute_result"
    }
   ],
   "source": [
    "ddb_client.list_tables()"
   ]
  },
  {
   "cell_type": "code",
   "execution_count": 15,
   "id": "3c41a8dc",
   "metadata": {},
   "outputs": [],
   "source": [
    "entry = {\n",
    "    \"Title\": {\"S\": \"The Matrix\"},\n",
    "    \"Director\": {\"S\": \"Lana Wachowski\"},\n",
    "    \"Year\": {\"N\": \"1999\"},\n",
    "    \"Rating\": {\"N\": \"5\"},\n",
    "}"
   ]
  },
  {
   "cell_type": "code",
   "execution_count": 16,
   "id": "61572360",
   "metadata": {},
   "outputs": [
    {
     "data": {
      "text/plain": [
       "{'ResponseMetadata': {'RequestId': '605VVRAHMHQR1P9PMF6BQDQF27VV4KQNSO5AEMVJF66Q9ASUAAJG',\n",
       "  'HTTPStatusCode': 200,\n",
       "  'HTTPHeaders': {'server': 'Server',\n",
       "   'date': 'Mon, 19 May 2025 14:27:29 GMT',\n",
       "   'content-type': 'application/x-amz-json-1.0',\n",
       "   'content-length': '2',\n",
       "   'connection': 'keep-alive',\n",
       "   'x-amzn-requestid': '605VVRAHMHQR1P9PMF6BQDQF27VV4KQNSO5AEMVJF66Q9ASUAAJG',\n",
       "   'x-amz-crc32': '2745614147'},\n",
       "  'RetryAttempts': 0}}"
      ]
     },
     "execution_count": 16,
     "metadata": {},
     "output_type": "execute_result"
    }
   ],
   "source": [
    "ddb_client.put_item(TableName=\"Movies\", Item=entry)"
   ]
  },
  {
   "cell_type": "code",
   "execution_count": 17,
   "id": "0b911681",
   "metadata": {},
   "outputs": [],
   "source": [
    "item_key = {\"Title\": {\"S\": \"The Matrix\"}, \"Rating\": {\"N\": \"5\"}}"
   ]
  },
  {
   "cell_type": "code",
   "execution_count": 18,
   "id": "61acbd07",
   "metadata": {},
   "outputs": [],
   "source": [
    "response = ddb_client.get_item(TableName=table_name, Key=item_key)"
   ]
  },
  {
   "cell_type": "code",
   "execution_count": 19,
   "id": "fc037615",
   "metadata": {},
   "outputs": [
    {
     "data": {
      "text/plain": [
       "{'Title': {'S': 'The Matrix'},\n",
       " 'Director': {'S': 'Lana Wachowski'},\n",
       " 'Year': {'N': '1999'},\n",
       " 'Rating': {'N': '5'}}"
      ]
     },
     "execution_count": 19,
     "metadata": {},
     "output_type": "execute_result"
    }
   ],
   "source": [
    "response[\"Item\"]"
   ]
  },
  {
   "cell_type": "code",
   "execution_count": 20,
   "id": "2bd65357",
   "metadata": {},
   "outputs": [],
   "source": [
    "update = \"SET Director = :r\""
   ]
  },
  {
   "cell_type": "code",
   "execution_count": 27,
   "id": "b96d3e17",
   "metadata": {},
   "outputs": [
    {
     "data": {
      "text/plain": [
       "{'ResponseMetadata': {'RequestId': '5SB20Q8BGKFUVC29B6J3PEL1OBVV4KQNSO5AEMVJF66Q9ASUAAJG',\n",
       "  'HTTPStatusCode': 200,\n",
       "  'HTTPHeaders': {'server': 'Server',\n",
       "   'date': 'Mon, 19 May 2025 15:27:34 GMT',\n",
       "   'content-type': 'application/x-amz-json-1.0',\n",
       "   'content-length': '2',\n",
       "   'connection': 'keep-alive',\n",
       "   'x-amzn-requestid': '5SB20Q8BGKFUVC29B6J3PEL1OBVV4KQNSO5AEMVJF66Q9ASUAAJG',\n",
       "   'x-amz-crc32': '2745614147'},\n",
       "  'RetryAttempts': 0}}"
      ]
     },
     "execution_count": 27,
     "metadata": {},
     "output_type": "execute_result"
    }
   ],
   "source": [
    "ddb_client.update_item(\n",
    "    TableName=\"Movies\",\n",
    "    Key=item_key,\n",
    "    UpdateExpression=update,\n",
    "    ExpressionAttributeValues={\":r\": {\"S\": \"Lana and Lilly Wachowski\"}},\n",
    ")"
   ]
  },
  {
   "cell_type": "code",
   "execution_count": 1,
   "id": "47750315",
   "metadata": {},
   "outputs": [],
   "source": [
    "movies = [\n",
    "    {\n",
    "        \"Title\": \"The Matrix\",\n",
    "        \"Director\": \"Lana Wachowski\",\n",
    "        \"Year\": \"1999\",\n",
    "        \"Rating\": \"4.7\",\n",
    "    },\n",
    "    {\n",
    "        \"Title\": \"The Matrix 2\",\n",
    "        \"Director\": \"Lana Wachowski\",\n",
    "        \"Year\": \"2003\",\n",
    "        \"Rating\": \"4.6\",\n",
    "    },\n",
    "    {\n",
    "        \"Title\": \"The Matrix 3\",\n",
    "        \"Director\": \"Lana Wachowski\",\n",
    "        \"Year\": \"2003\",\n",
    "        \"Rating\": \"4.5\",\n",
    "    },\n",
    "    {\n",
    "        \"Title\": \"Inception\",\n",
    "        \"Director\": \"Christopher Nolan\",\n",
    "        \"Year\": \"2010\",\n",
    "        \"Rating\": \"4.6\",\n",
    "    },\n",
    "    {\n",
    "        \"Title\": \"Saving Private Ryan\",\n",
    "        \"Director\": \"Steven Spielberg\",\n",
    "        \"Year\": \"1999\",\n",
    "        \"Rating\": \"4.7\",\n",
    "    },\n",
    "]"
   ]
  },
  {
   "cell_type": "code",
   "execution_count": 12,
   "id": "4ebbd6bf",
   "metadata": {},
   "outputs": [],
   "source": [
    "batch_request = []\n",
    "for movie in movies:\n",
    "    batch_request.append(\n",
    "        {\n",
    "            \"PutRequest\": {\n",
    "                \"Item\": {\n",
    "                    \"Title\": {\"S\": movie[\"Title\"]},\n",
    "                    \"Rating\": {\"N\": str(movie[\"Rating\"])},\n",
    "                    \"Director\": {\"S\": movie[\"Director\"]},\n",
    "                    \"Year\": {\"N\": str(movie[\"Year\"])},\n",
    "                }\n",
    "            }\n",
    "        }\n",
    "    )"
   ]
  },
  {
   "cell_type": "code",
   "execution_count": 13,
   "id": "2f4a424b",
   "metadata": {},
   "outputs": [],
   "source": [
    "response = ddb_client.batch_write_item(RequestItems={\"Movies\": batch_request})"
   ]
  },
  {
   "cell_type": "code",
   "execution_count": 14,
   "id": "eb8f7d14",
   "metadata": {},
   "outputs": [
    {
     "data": {
      "text/plain": [
       "[{'PutRequest': {'Item': {'Title': {'S': 'The Matrix'},\n",
       "    'Rating': {'N': '4.7'},\n",
       "    'Director': {'S': 'Lana Wachowski'},\n",
       "    'Year': {'N': '1999'}}}},\n",
       " {'PutRequest': {'Item': {'Title': {'S': 'The Matrix 2'},\n",
       "    'Rating': {'N': '4.6'},\n",
       "    'Director': {'S': 'Lana Wachowski'},\n",
       "    'Year': {'N': '2003'}}}},\n",
       " {'PutRequest': {'Item': {'Title': {'S': 'The Matrix 3'},\n",
       "    'Rating': {'N': '4.5'},\n",
       "    'Director': {'S': 'Lana Wachowski'},\n",
       "    'Year': {'N': '2003'}}}},\n",
       " {'PutRequest': {'Item': {'Title': {'S': 'Inception'},\n",
       "    'Rating': {'N': '4.6'},\n",
       "    'Director': {'S': 'Christopher Nolan'},\n",
       "    'Year': {'N': '2010'}}}},\n",
       " {'PutRequest': {'Item': {'Title': {'S': 'Saving Private Ryan'},\n",
       "    'Rating': {'N': '4.7'},\n",
       "    'Director': {'S': 'Steven Spielberg'},\n",
       "    'Year': {'N': '1999'}}}}]"
      ]
     },
     "execution_count": 14,
     "metadata": {},
     "output_type": "execute_result"
    }
   ],
   "source": [
    "batch_request"
   ]
  },
  {
   "cell_type": "code",
   "execution_count": 16,
   "id": "e22ed26e",
   "metadata": {},
   "outputs": [],
   "source": [
    "batch_request_2 = {\"Keys\": []}\n",
    "for movie in movies:\n",
    "    batch_request_2[\"Keys\"].append(\n",
    "        {\n",
    "            \"Title\": {\"S\": movie[\"Title\"]},\n",
    "            \"Rating\": {\"N\": str(movie[\"Rating\"])},\n",
    "        }\n",
    "    )"
   ]
  },
  {
   "cell_type": "code",
   "execution_count": 19,
   "id": "470db933",
   "metadata": {},
   "outputs": [
    {
     "data": {
      "text/plain": [
       "{'Responses': {'Movies': [{'Title': {'S': 'The Matrix'},\n",
       "    'Director': {'S': 'Lana Wachowski'},\n",
       "    'Year': {'N': '1999'},\n",
       "    'Rating': {'N': '4.7'}},\n",
       "   {'Title': {'S': 'The Matrix 2'},\n",
       "    'Director': {'S': 'Lana Wachowski'},\n",
       "    'Year': {'N': '2003'},\n",
       "    'Rating': {'N': '4.6'}},\n",
       "   {'Title': {'S': 'The Matrix 3'},\n",
       "    'Director': {'S': 'Lana Wachowski'},\n",
       "    'Year': {'N': '2003'},\n",
       "    'Rating': {'N': '4.5'}},\n",
       "   {'Title': {'S': 'Inception'},\n",
       "    'Director': {'S': 'Christopher Nolan'},\n",
       "    'Year': {'N': '2010'},\n",
       "    'Rating': {'N': '4.6'}},\n",
       "   {'Title': {'S': 'Saving Private Ryan'},\n",
       "    'Director': {'S': 'Steven Spielberg'},\n",
       "    'Year': {'N': '1999'},\n",
       "    'Rating': {'N': '4.7'}}]},\n",
       " 'UnprocessedKeys': {},\n",
       " 'ResponseMetadata': {'RequestId': '7O6KT60DJE6TRO3T591UN960NFVV4KQNSO5AEMVJF66Q9ASUAAJG',\n",
       "  'HTTPStatusCode': 200,\n",
       "  'HTTPHeaders': {'server': 'Server',\n",
       "   'date': 'Mon, 19 May 2025 18:42:41 GMT',\n",
       "   'content-type': 'application/x-amz-json-1.0',\n",
       "   'content-length': '584',\n",
       "   'connection': 'keep-alive',\n",
       "   'x-amzn-requestid': '7O6KT60DJE6TRO3T591UN960NFVV4KQNSO5AEMVJF66Q9ASUAAJG',\n",
       "   'x-amz-crc32': '250259713'},\n",
       "  'RetryAttempts': 0}}"
      ]
     },
     "execution_count": 19,
     "metadata": {},
     "output_type": "execute_result"
    }
   ],
   "source": [
    "ddb_client.batch_get_item(RequestItems={\"Movies\": batch_request_2})"
   ]
  },
  {
   "cell_type": "code",
   "execution_count": 17,
   "id": "a177f877",
   "metadata": {},
   "outputs": [
    {
     "data": {
      "text/plain": [
       "{'TableNames': ['Movies', 'cloud-gear-instances', 'cloud-gear-users'],\n",
       " 'ResponseMetadata': {'RequestId': 'KBRQ30LPLK8UCUC2MID2SBRAGNVV4KQNSO5AEMVJF66Q9ASUAAJG',\n",
       "  'HTTPStatusCode': 200,\n",
       "  'HTTPHeaders': {'server': 'Server',\n",
       "   'date': 'Mon, 19 May 2025 18:42:02 GMT',\n",
       "   'content-type': 'application/x-amz-json-1.0',\n",
       "   'content-length': '67',\n",
       "   'connection': 'keep-alive',\n",
       "   'x-amzn-requestid': 'KBRQ30LPLK8UCUC2MID2SBRAGNVV4KQNSO5AEMVJF66Q9ASUAAJG',\n",
       "   'x-amz-crc32': '317816819'},\n",
       "  'RetryAttempts': 0}}"
      ]
     },
     "execution_count": 17,
     "metadata": {},
     "output_type": "execute_result"
    }
   ],
   "source": [
    "ddb_client.list_tables()"
   ]
  },
  {
   "cell_type": "code",
   "execution_count": 21,
   "id": "9d36f5e3",
   "metadata": {},
   "outputs": [],
   "source": [
    "items = []\n",
    "response = ddb_client.scan(TableName=\"Movies\")\n",
    "items.extend(response[\"Items\"])\n",
    "\n",
    "while \"LastEvaluatedKey\" in response.keys():\n",
    "    response = ddb_client.scan(\n",
    "        TableName=\"Movies\", ExclusiveStartKey=response[\"LastEvaluatedKey\"]\n",
    "    )\n",
    "    items.extend(response[\"Items\"])"
   ]
  },
  {
   "cell_type": "code",
   "execution_count": 22,
   "id": "f3d8fd1f",
   "metadata": {},
   "outputs": [
    {
     "data": {
      "text/plain": [
       "[{'Title': {'S': 'The Matrix'},\n",
       "  'Director': {'S': 'Lana Wachowski'},\n",
       "  'Year': {'N': '1999'},\n",
       "  'Rating': {'N': '4.7'}},\n",
       " {'Title': {'S': 'The Matrix'},\n",
       "  'Director': {'S': 'Lana and Lilly Wachowski'},\n",
       "  'Year': {'N': '1999'},\n",
       "  'Rating': {'N': '5'}},\n",
       " {'Title': {'S': 'Inception'},\n",
       "  'Director': {'S': 'Christopher Nolan'},\n",
       "  'Year': {'N': '2010'},\n",
       "  'Rating': {'N': '4.6'}},\n",
       " {'Title': {'S': 'The Matrix 3'},\n",
       "  'Director': {'S': 'Lana Wachowski'},\n",
       "  'Year': {'N': '2003'},\n",
       "  'Rating': {'N': '4.5'}},\n",
       " {'Title': {'S': 'Saving Private Ryan'},\n",
       "  'Director': {'S': 'Steven Spielberg'},\n",
       "  'Year': {'N': '1999'},\n",
       "  'Rating': {'N': '4.7'}},\n",
       " {'Title': {'S': 'The Matrix 2'},\n",
       "  'Director': {'S': 'Lana Wachowski'},\n",
       "  'Year': {'N': '2003'},\n",
       "  'Rating': {'N': '4.6'}}]"
      ]
     },
     "execution_count": 22,
     "metadata": {},
     "output_type": "execute_result"
    }
   ],
   "source": [
    "items"
   ]
  },
  {
   "cell_type": "code",
   "execution_count": 24,
   "id": "d0a42114",
   "metadata": {},
   "outputs": [
    {
     "data": {
      "text/plain": [
       "{'Items': [{'Title': {'S': 'The Matrix'},\n",
       "   'Director': {'S': 'Lana Wachowski'},\n",
       "   'Year': {'N': '1999'},\n",
       "   'Rating': {'N': '4.7'}},\n",
       "  {'Title': {'S': 'The Matrix'},\n",
       "   'Director': {'S': 'Lana and Lilly Wachowski'},\n",
       "   'Year': {'N': '1999'},\n",
       "   'Rating': {'N': '5'}},\n",
       "  {'Title': {'S': 'Saving Private Ryan'},\n",
       "   'Director': {'S': 'Steven Spielberg'},\n",
       "   'Year': {'N': '1999'},\n",
       "   'Rating': {'N': '4.7'}}],\n",
       " 'Count': 3,\n",
       " 'ScannedCount': 6,\n",
       " 'ResponseMetadata': {'RequestId': '3VTDI7B5L8FBTCPP4U23GLGFBJVV4KQNSO5AEMVJF66Q9ASUAAJG',\n",
       "  'HTTPStatusCode': 200,\n",
       "  'HTTPHeaders': {'server': 'Server',\n",
       "   'date': 'Mon, 19 May 2025 19:29:57 GMT',\n",
       "   'content-type': 'application/x-amz-json-1.0',\n",
       "   'content-length': '369',\n",
       "   'connection': 'keep-alive',\n",
       "   'x-amzn-requestid': '3VTDI7B5L8FBTCPP4U23GLGFBJVV4KQNSO5AEMVJF66Q9ASUAAJG',\n",
       "   'x-amz-crc32': '3134383722'},\n",
       "  'RetryAttempts': 0}}"
      ]
     },
     "execution_count": 24,
     "metadata": {},
     "output_type": "execute_result"
    }
   ],
   "source": [
    "ddb_client.scan(\n",
    "    TableName=\"Movies\",\n",
    "    FilterExpression=\"Rating >= :num\",\n",
    "    ExpressionAttributeValues={\":num\": {\"N\": \"4.7\"}},\n",
    ")"
   ]
  },
  {
   "cell_type": "code",
   "execution_count": null,
   "id": "ff71130f",
   "metadata": {},
   "outputs": [],
   "source": []
  }
 ],
 "metadata": {
  "kernelspec": {
   "display_name": "boto3_aws",
   "language": "python",
   "name": "python3"
  },
  "language_info": {
   "codemirror_mode": {
    "name": "ipython",
    "version": 3
   },
   "file_extension": ".py",
   "mimetype": "text/x-python",
   "name": "python",
   "nbconvert_exporter": "python",
   "pygments_lexer": "ipython3",
   "version": "3.13.2"
  }
 },
 "nbformat": 4,
 "nbformat_minor": 5
}
