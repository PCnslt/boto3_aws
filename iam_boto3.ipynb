{
 "cells": [
  {
   "cell_type": "markdown",
   "id": "42bc20e4",
   "metadata": {},
   "source": [
    "# IAM  Client"
   ]
  },
  {
   "cell_type": "code",
   "execution_count": 1,
   "id": "dbb4f0cd",
   "metadata": {},
   "outputs": [],
   "source": [
    "import boto3"
   ]
  },
  {
   "cell_type": "code",
   "execution_count": 2,
   "id": "32623b4b",
   "metadata": {},
   "outputs": [],
   "source": [
    "iam_client = boto3.client(\"iam\")"
   ]
  },
  {
   "cell_type": "code",
   "execution_count": 3,
   "id": "0fde95fb",
   "metadata": {},
   "outputs": [],
   "source": [
    "result = iam_client.list_users()"
   ]
  },
  {
   "cell_type": "code",
   "execution_count": null,
   "id": "0c4f9e63",
   "metadata": {},
   "outputs": [
    {
     "data": {
      "text/plain": [
       "'serverless-admin'"
      ]
     },
     "execution_count": 11,
     "metadata": {},
     "output_type": "execute_result"
    }
   ],
   "source": [
    "# result[\"Users\"][3][\"UserName\"]"
   ]
  },
  {
   "cell_type": "code",
   "execution_count": 12,
   "id": "338b51c1",
   "metadata": {},
   "outputs": [
    {
     "data": {
      "text/plain": [
       "{'Groups': [{'Path': '/',\n",
       "   'GroupName': 'Admin',\n",
       "   'GroupId': 'AGPAYYE3PB7I4EGWNQ3R2',\n",
       "   'Arn': 'arn:aws:iam::601621467089:group/Admin',\n",
       "   'CreateDate': datetime.datetime(2022, 1, 7, 1, 48, 9, tzinfo=tzutc())},\n",
       "  {'Path': '/',\n",
       "   'GroupName': 'voicemail-patriot-consultanc-VoicemailIamUserGroup-15NKRVIS7N8P7',\n",
       "   'GroupId': 'AGPAYYE3PB7I54UJQH3AG',\n",
       "   'Arn': 'arn:aws:iam::601621467089:group/voicemail-patriot-consultanc-VoicemailIamUserGroup-15NKRVIS7N8P7',\n",
       "   'CreateDate': datetime.datetime(2022, 1, 7, 4, 37, 39, tzinfo=tzutc())}],\n",
       " 'IsTruncated': False,\n",
       " 'ResponseMetadata': {'RequestId': '9f84c322-202d-4787-ad89-a6fb78454196',\n",
       "  'HTTPStatusCode': 200,\n",
       "  'HTTPHeaders': {'date': 'Mon, 19 May 2025 06:56:37 GMT',\n",
       "   'x-amzn-requestid': '9f84c322-202d-4787-ad89-a6fb78454196',\n",
       "   'content-type': 'text/xml',\n",
       "   'content-length': '927'},\n",
       "  'RetryAttempts': 0}}"
      ]
     },
     "execution_count": 12,
     "metadata": {},
     "output_type": "execute_result"
    }
   ],
   "source": [
    "iam_client.list_groups()"
   ]
  },
  {
   "cell_type": "code",
   "execution_count": 14,
   "id": "296d7818",
   "metadata": {},
   "outputs": [],
   "source": [
    "response = iam_client.create_user(UserName=\"new-system-user\")"
   ]
  },
  {
   "cell_type": "code",
   "execution_count": null,
   "id": "f5e098ca",
   "metadata": {},
   "outputs": [
    {
     "data": {
      "text/plain": [
       "{'User': {'Path': '/',\n",
       "  'UserName': 'new-system-user',\n",
       "  'UserId': 'AIDAYYE3PB7IUKWYO6NFD',\n",
       "  'Arn': 'arn:aws:iam::601621467089:user/new-system-user',\n",
       "  'CreateDate': datetime.datetime(2025, 5, 19, 7, 2, 35, tzinfo=tzutc())},\n",
       " 'ResponseMetadata': {'RequestId': '3d7e22cd-a8a6-4426-aba4-5968f6fb8f15',\n",
       "  'HTTPStatusCode': 200,\n",
       "  'HTTPHeaders': {'date': 'Mon, 19 May 2025 07:02:35 GMT',\n",
       "   'x-amzn-requestid': '3d7e22cd-a8a6-4426-aba4-5968f6fb8f15',\n",
       "   'content-type': 'text/xml',\n",
       "   'content-length': '491'},\n",
       "  'RetryAttempts': 0}}"
      ]
     },
     "execution_count": 15,
     "metadata": {},
     "output_type": "execute_result"
    }
   ],
   "source": [
    "# response"
   ]
  },
  {
   "cell_type": "code",
   "execution_count": null,
   "id": "19283b55",
   "metadata": {},
   "outputs": [
    {
     "ename": "NoSuchEntityException",
     "evalue": "An error occurred (NoSuchEntity) when calling the AddUserToGroup operation: The group with name boto3-course cannot be found.",
     "output_type": "error",
     "traceback": [
      "\u001b[31m---------------------------------------------------------------------------\u001b[39m",
      "\u001b[31mNoSuchEntityException\u001b[39m                     Traceback (most recent call last)",
      "\u001b[36mCell\u001b[39m\u001b[36m \u001b[39m\u001b[32mIn[17]\u001b[39m\u001b[32m, line 1\u001b[39m\n\u001b[32m----> \u001b[39m\u001b[32m1\u001b[39m result = \u001b[43miam_client\u001b[49m\u001b[43m.\u001b[49m\u001b[43madd_user_to_group\u001b[49m\u001b[43m(\u001b[49m\n\u001b[32m      2\u001b[39m \u001b[43m    \u001b[49m\u001b[43mUserName\u001b[49m\u001b[43m=\u001b[49m\u001b[33;43m\"\u001b[39;49m\u001b[33;43mnew-system-user\u001b[39;49m\u001b[33;43m\"\u001b[39;49m\u001b[43m,\u001b[49m\u001b[43m \u001b[49m\u001b[43mGroupName\u001b[49m\u001b[43m=\u001b[49m\u001b[33;43m\"\u001b[39;49m\u001b[33;43mboto3-course\u001b[39;49m\u001b[33;43m\"\u001b[39;49m\n\u001b[32m      3\u001b[39m \u001b[43m)\u001b[49m\n",
      "\u001b[36mFile \u001b[39m\u001b[32m/opt/anaconda3/envs/boto3_aws/lib/python3.13/site-packages/botocore/client.py:595\u001b[39m, in \u001b[36mClientCreator._create_api_method.<locals>._api_call\u001b[39m\u001b[34m(self, *args, **kwargs)\u001b[39m\n\u001b[32m    591\u001b[39m     \u001b[38;5;28;01mraise\u001b[39;00m \u001b[38;5;167;01mTypeError\u001b[39;00m(\n\u001b[32m    592\u001b[39m         \u001b[33mf\u001b[39m\u001b[33m\"\u001b[39m\u001b[38;5;132;01m{\u001b[39;00mpy_operation_name\u001b[38;5;132;01m}\u001b[39;00m\u001b[33m() only accepts keyword arguments.\u001b[39m\u001b[33m\"\u001b[39m\n\u001b[32m    593\u001b[39m     )\n\u001b[32m    594\u001b[39m \u001b[38;5;66;03m# The \"self\" in this scope is referring to the BaseClient.\u001b[39;00m\n\u001b[32m--> \u001b[39m\u001b[32m595\u001b[39m \u001b[38;5;28;01mreturn\u001b[39;00m \u001b[38;5;28;43mself\u001b[39;49m\u001b[43m.\u001b[49m\u001b[43m_make_api_call\u001b[49m\u001b[43m(\u001b[49m\u001b[43moperation_name\u001b[49m\u001b[43m,\u001b[49m\u001b[43m \u001b[49m\u001b[43mkwargs\u001b[49m\u001b[43m)\u001b[49m\n",
      "\u001b[36mFile \u001b[39m\u001b[32m/opt/anaconda3/envs/boto3_aws/lib/python3.13/site-packages/botocore/context.py:123\u001b[39m, in \u001b[36mwith_current_context.<locals>.decorator.<locals>.wrapper\u001b[39m\u001b[34m(*args, **kwargs)\u001b[39m\n\u001b[32m    121\u001b[39m \u001b[38;5;28;01mif\u001b[39;00m hook:\n\u001b[32m    122\u001b[39m     hook()\n\u001b[32m--> \u001b[39m\u001b[32m123\u001b[39m \u001b[38;5;28;01mreturn\u001b[39;00m \u001b[43mfunc\u001b[49m\u001b[43m(\u001b[49m\u001b[43m*\u001b[49m\u001b[43margs\u001b[49m\u001b[43m,\u001b[49m\u001b[43m \u001b[49m\u001b[43m*\u001b[49m\u001b[43m*\u001b[49m\u001b[43mkwargs\u001b[49m\u001b[43m)\u001b[49m\n",
      "\u001b[36mFile \u001b[39m\u001b[32m/opt/anaconda3/envs/boto3_aws/lib/python3.13/site-packages/botocore/client.py:1058\u001b[39m, in \u001b[36mBaseClient._make_api_call\u001b[39m\u001b[34m(self, operation_name, api_params)\u001b[39m\n\u001b[32m   1054\u001b[39m     error_code = error_info.get(\u001b[33m\"\u001b[39m\u001b[33mQueryErrorCode\u001b[39m\u001b[33m\"\u001b[39m) \u001b[38;5;129;01mor\u001b[39;00m error_info.get(\n\u001b[32m   1055\u001b[39m         \u001b[33m\"\u001b[39m\u001b[33mCode\u001b[39m\u001b[33m\"\u001b[39m\n\u001b[32m   1056\u001b[39m     )\n\u001b[32m   1057\u001b[39m     error_class = \u001b[38;5;28mself\u001b[39m.exceptions.from_code(error_code)\n\u001b[32m-> \u001b[39m\u001b[32m1058\u001b[39m     \u001b[38;5;28;01mraise\u001b[39;00m error_class(parsed_response, operation_name)\n\u001b[32m   1059\u001b[39m \u001b[38;5;28;01melse\u001b[39;00m:\n\u001b[32m   1060\u001b[39m     \u001b[38;5;28;01mreturn\u001b[39;00m parsed_response\n",
      "\u001b[31mNoSuchEntityException\u001b[39m: An error occurred (NoSuchEntity) when calling the AddUserToGroup operation: The group with name boto3-course cannot be found."
     ]
    }
   ],
   "source": [
    "result = iam_client.add_user_to_group(\n",
    "    UserName=\"new-system-user\", GroupName=\"boto3-course\"\n",
    ")"
   ]
  },
  {
   "cell_type": "code",
   "execution_count": 20,
   "id": "bc0413fd",
   "metadata": {},
   "outputs": [
    {
     "data": {
      "text/plain": [
       "{'ResponseMetadata': {'RequestId': 'f4df4520-19bf-42f6-a1e5-e1b1a6019546',\n",
       "  'HTTPStatusCode': 200,\n",
       "  'HTTPHeaders': {'date': 'Mon, 19 May 2025 07:10:13 GMT',\n",
       "   'x-amzn-requestid': 'f4df4520-19bf-42f6-a1e5-e1b1a6019546',\n",
       "   'content-type': 'text/xml',\n",
       "   'content-length': '200'},\n",
       "  'RetryAttempts': 0}}"
      ]
     },
     "execution_count": 20,
     "metadata": {},
     "output_type": "execute_result"
    }
   ],
   "source": [
    "iam_client.delete_user(UserName=\"new-system-user\")"
   ]
  },
  {
   "cell_type": "code",
   "execution_count": null,
   "id": "08b4172a",
   "metadata": {},
   "outputs": [],
   "source": [
    "iam_client.remove_user_from_group(UserName=\"new-system-user\")"
   ]
  }
 ],
 "metadata": {
  "kernelspec": {
   "display_name": "boto3_aws",
   "language": "python",
   "name": "python3"
  },
  "language_info": {
   "codemirror_mode": {
    "name": "ipython",
    "version": 3
   },
   "file_extension": ".py",
   "mimetype": "text/x-python",
   "name": "python",
   "nbconvert_exporter": "python",
   "pygments_lexer": "ipython3",
   "version": "3.13.2"
  }
 },
 "nbformat": 4,
 "nbformat_minor": 5
}
